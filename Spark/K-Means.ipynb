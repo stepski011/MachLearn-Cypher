{
 "cells": [
  {
   "cell_type": "code",
   "execution_count": 3,
   "metadata": {},
   "outputs": [],
   "source": [
    "lines = sc.textFile(\"hdfs:///user/.../iris.data\")"
   ]
  },
  {
   "cell_type": "code",
   "execution_count": 4,
   "metadata": {},
   "outputs": [
    {
     "data": {
      "text/plain": [
       "['5.1,3.5,1.4,0.2,Iris-setosa',\n",
       " '4.9,3.0,1.4,0.2,Iris-setosa',\n",
       " '4.7,3.2,1.3,0.2,Iris-setosa',\n",
       " '4.6,3.1,1.5,0.2,Iris-setosa',\n",
       " '5.0,3.6,1.4,0.2,Iris-setosa',\n",
       " '5.4,3.9,1.7,0.4,Iris-setosa',\n",
       " '4.6,3.4,1.4,0.3,Iris-setosa',\n",
       " '5.0,3.4,1.5,0.2,Iris-setosa',\n",
       " '4.4,2.9,1.4,0.2,Iris-setosa',\n",
       " '4.9,3.1,1.5,0.1,Iris-setosa']"
      ]
     },
     "execution_count": 4,
     "metadata": {},
     "output_type": "execute_result"
    }
   ],
   "source": [
    "lines.take(10)"
   ]
  },
  {
   "cell_type": "code",
   "execution_count": 6,
   "metadata": {},
   "outputs": [],
   "source": [
    "import numpy as np\n",
    "\n",
    "def parseVector(line):\n",
    "    return np.array([float(x) for x in line.split(',')[:-1]])"
   ]
  },
  {
   "cell_type": "code",
   "execution_count": 7,
   "metadata": {},
   "outputs": [],
   "source": [
    "lines_filtered = lines.filter(lambda line: len(line.split(\",\")) == 5)\n",
    "data = lines_filtered.map(parseVector)"
   ]
  },
  {
   "cell_type": "code",
   "execution_count": 8,
   "metadata": {},
   "outputs": [
    {
     "data": {
      "text/plain": [
       "[array([5.1, 3.5, 1.4, 0.2]),\n",
       " array([4.9, 3. , 1.4, 0.2]),\n",
       " array([4.7, 3.2, 1.3, 0.2]),\n",
       " array([4.6, 3.1, 1.5, 0.2]),\n",
       " array([5. , 3.6, 1.4, 0.2]),\n",
       " array([5.4, 3.9, 1.7, 0.4]),\n",
       " array([4.6, 3.4, 1.4, 0.3]),\n",
       " array([5. , 3.4, 1.5, 0.2]),\n",
       " array([4.4, 2.9, 1.4, 0.2]),\n",
       " array([4.9, 3.1, 1.5, 0.1])]"
      ]
     },
     "execution_count": 8,
     "metadata": {},
     "output_type": "execute_result"
    }
   ],
   "source": [
    "data.take(10)"
   ]
  },
  {
   "cell_type": "code",
   "execution_count": 9,
   "metadata": {},
   "outputs": [],
   "source": [
    "def closestPoint(p):\n",
    "    \n",
    "    centers = centers_bc.value\n",
    "    \n",
    "    bestIndex = 0\n",
    "    closest = float(\"+inf\")\n",
    "    \n",
    "    for i in range(len(centers)):\n",
    "        \n",
    "        tempDist = np.sum((p - centers[i]) ** 2)\n",
    "        \n",
    "        if tempDist < closest:\n",
    "            closest = tempDist\n",
    "            bestIndex = i\n",
    "\n",
    "    return bestIndex"
   ]
  },
  {
   "cell_type": "code",
   "execution_count": 10,
   "metadata": {},
   "outputs": [
    {
     "data": {
      "text/plain": [
       "PythonRDD[6] at RDD at PythonRDD.scala:53"
      ]
     },
     "execution_count": 10,
     "metadata": {},
     "output_type": "execute_result"
    }
   ],
   "source": [
    "data.cache()"
   ]
  },
  {
   "cell_type": "code",
   "execution_count": 11,
   "metadata": {},
   "outputs": [
    {
     "name": "stdout",
     "output_type": "stream",
     "text": [
      "Cluster centers for iteration 0:\n",
      "\t mean 0: [5.99104478 2.79253731 4.56865672 1.51641791]\n",
      "\t mean 1: [6.99333333 3.09666667 5.83       2.09666667]\n",
      "\t mean 2: [5.00566038 3.36037736 1.56226415 0.28867925]\n",
      "Cluster centers for iteration 1:\n",
      "\t mean 0: [5.9453125 2.759375  4.4515625 1.44375  ]\n",
      "\t mean 1: [6.87428571 3.08857143 5.79142857 2.11714286]\n",
      "\t mean 2: [5.00784314 3.4        1.49411765 0.26078431]\n",
      "Cluster centers for iteration 2:\n",
      "\t mean 0: [5.9047619  2.74603175 4.41269841 1.43333333]\n",
      "\t mean 1: [6.87027027 3.08648649 5.74594595 2.08918919]\n",
      "\t mean 2: [5.006 3.418 1.464 0.244]\n",
      "Cluster centers for iteration 3:\n",
      "\t mean 0: [5.9016129  2.7483871  4.39354839 1.43387097]\n",
      "\t mean 1: [6.85       3.07368421 5.74210526 2.07105263]\n",
      "\t mean 2: [5.006 3.418 1.464 0.244]\n",
      "Cluster centers for iteration 4:\n",
      "\t mean 0: [5.9016129  2.7483871  4.39354839 1.43387097]\n",
      "\t mean 1: [6.85       3.07368421 5.74210526 2.07105263]\n",
      "\t mean 2: [5.006 3.418 1.464 0.244]\n",
      "Cluster centers for iteration 5:\n",
      "\t mean 0: [5.9016129  2.7483871  4.39354839 1.43387097]\n",
      "\t mean 1: [6.85       3.07368421 5.74210526 2.07105263]\n",
      "\t mean 2: [5.006 3.418 1.464 0.244]\n",
      "Cluster centers for iteration 6:\n",
      "\t mean 0: [5.9016129  2.7483871  4.39354839 1.43387097]\n",
      "\t mean 1: [6.85       3.07368421 5.74210526 2.07105263]\n",
      "\t mean 2: [5.006 3.418 1.464 0.244]\n",
      "Cluster centers for iteration 7:\n",
      "\t mean 0: [5.9016129  2.7483871  4.39354839 1.43387097]\n",
      "\t mean 1: [6.85       3.07368421 5.74210526 2.07105263]\n",
      "\t mean 2: [5.006 3.418 1.464 0.244]\n",
      "Cluster centers for iteration 8:\n",
      "\t mean 0: [5.9016129  2.7483871  4.39354839 1.43387097]\n",
      "\t mean 1: [6.85       3.07368421 5.74210526 2.07105263]\n",
      "\t mean 2: [5.006 3.418 1.464 0.244]\n",
      "Cluster centers for iteration 9:\n",
      "\t mean 0: [5.9016129  2.7483871  4.39354839 1.43387097]\n",
      "\t mean 1: [6.85       3.07368421 5.74210526 2.07105263]\n",
      "\t mean 2: [5.006 3.418 1.464 0.244]\n"
     ]
    }
   ],
   "source": [
    "K = 3\n",
    "max_iter = 10\n",
    "\n",
    "centers = data.takeSample(False, K, 1)\n",
    "\n",
    "distances = None\n",
    "iteration = 0\n",
    "\n",
    "while iteration < max_iter:\n",
    "    \n",
    "    centers_bc = sc.broadcast(centers) \n",
    "\n",
    "    closest = data.map(lambda p: (closestPoint(p), (p, 1)))\n",
    "    \n",
    "    stats = closest.reduceByKey(lambda p1_c1, p2_c2: (p1_c1[0] + p2_c2[0], p1_c1[1] + p2_c2[1]))\n",
    "    \n",
    "    new_centers_pairs = stats.map(lambda clidx_stats: (clidx_stats[0], clidx_stats[1][0] / clidx_stats[1][1]))\n",
    "    new_centers_pairs = new_centers_pairs.collect()\n",
    "\n",
    "    for (iK, p) in new_centers_pairs:\n",
    "        centers[iK] = p\n",
    "        \n",
    "    print(\"Cluster centers for iteration {}:\".format(iteration))\n",
    "    for k in range(K):\n",
    "        print(\"\\t mean {}: {}\".format(k, centers[k]))\n",
    "    \n",
    "    iteration += 1"
   ]
  }
 ],
 "metadata": {
  "kernelspec": {
   "display_name": "Python 3 (ipykernel)",
   "language": "python",
   "name": "python3"
  },
  "language_info": {
   "codemirror_mode": {
    "name": "ipython",
    "version": 3
   },
   "file_extension": ".py",
   "mimetype": "text/x-python",
   "name": "python",
   "nbconvert_exporter": "python",
   "pygments_lexer": "ipython3",
   "version": "3.8.12"
  }
 },
 "nbformat": 4,
 "nbformat_minor": 4
}
