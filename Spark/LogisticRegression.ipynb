{
 "cells": [
  {
   "cell_type": "code",
   "execution_count": 1,
   "metadata": {},
   "outputs": [],
   "source": [
    "%matplotlib inline\n",
    "import matplotlib.pyplot as plt\n",
    "\n",
    "import sys\n",
    "import numpy as np\n",
    "np.random.seed(0)"
   ]
  },
  {
   "cell_type": "code",
   "execution_count": 5,
   "metadata": {},
   "outputs": [
    {
     "data": {
      "image/png": "[encoded data removed]",
      "text/plain": [
       "<Figure size 720x432 with 1 Axes>"
      ]
     },
     "metadata": {
      "needs_background": "light"
     },
     "output_type": "display_data"
    }
   ],
   "source": [
    "from sklearn import datasets\n",
    "\n",
    "iris = datasets.load_iris()\n",
    "X = iris.data[:, :2]\n",
    "X -= X.mean(axis=0)\n",
    "y = (iris.target != 0) * 1\n",
    "plt.figure(figsize=(10, 6))\n",
    "plt.scatter(X[y == 0][:, 0], X[y == 0][:, 1], color='b', label='0')\n",
    "plt.scatter(X[y == 1][:, 0], X[y == 1][:, 1], color='r', label='1')\n",
    "plt.legend()\n",
    "data = np.concatenate([y.reshape((len(y), 1)),X], axis=1)\n",
    "# Import from datasets folder\n",
    "np.savetxt('artificial.csv', data, delimiter=',')\n",
    "\n",
    "N = X.shape[0]\n",
    "D = X.shape[1]"
   ]
  },
  {
   "cell_type": "code",
   "execution_count": 6,
   "metadata": {},
   "outputs": [],
   "source": [
    "points = sc.textFile(\"file:///home/.../artificial.csv\")"
   ]
  },
  {
   "cell_type": "code",
   "execution_count": 7,
   "metadata": {},
   "outputs": [
    {
     "data": {
      "text/plain": [
       "['0.000000000000000000e+00,-7.433333333333349557e-01,4.426666666666658756e-01',\n",
       " '0.000000000000000000e+00,-9.433333333333342452e-01,-5.733333333333412440e-02',\n",
       " '0.000000000000000000e+00,-1.143333333333334423e+00,1.426666666666660532e-01',\n",
       " '0.000000000000000000e+00,-1.243333333333334956e+00,4.266666666666596441e-02',\n",
       " '0.000000000000000000e+00,-8.433333333333346005e-01,5.426666666666659644e-01',\n",
       " '0.000000000000000000e+00,-4.433333333333342452e-01,8.426666666666657868e-01',\n",
       " '0.000000000000000000e+00,-1.243333333333334956e+00,3.426666666666657868e-01',\n",
       " '0.000000000000000000e+00,-8.433333333333346005e-01,3.426666666666657868e-01',\n",
       " '0.000000000000000000e+00,-1.443333333333334245e+00,-1.573333333333342132e-01',\n",
       " '0.000000000000000000e+00,-9.433333333333342452e-01,4.266666666666596441e-02']"
      ]
     },
     "execution_count": 7,
     "metadata": {},
     "output_type": "execute_result"
    }
   ],
   "source": [
    "points.take(10)"
   ]
  },
  {
   "cell_type": "code",
   "execution_count": 8,
   "metadata": {},
   "outputs": [
    {
     "name": "stdout",
     "output_type": "stream",
     "text": [
      "Number of partitions: 2\n"
     ]
    }
   ],
   "source": [
    "print(\"Number of partitions: {}\".format(points.getNumPartitions()))"
   ]
  },
  {
   "cell_type": "code",
   "execution_count": 9,
   "metadata": {},
   "outputs": [],
   "source": [
    "def read_points_batch(points):\n",
    "\n",
    "    points = list(points)\n",
    "    arr = np.zeros((len(points), D + 1))\n",
    "    \n",
    "    for i, s in enumerate(points):\n",
    "        arr[i] = np.fromstring(s, dtype=np.float32, sep=',')\n",
    "    return [arr]\n",
    "\n",
    "points = points.mapPartitions(read_points_batch)"
   ]
  },
  {
   "cell_type": "code",
   "execution_count": 10,
   "metadata": {},
   "outputs": [
    {
     "data": {
      "text/plain": [
       "PythonRDD[3] at RDD at PythonRDD.scala:53"
      ]
     },
     "execution_count": 10,
     "metadata": {},
     "output_type": "execute_result"
    }
   ],
   "source": [
    "points.cache()"
   ]
  },
  {
   "cell_type": "code",
   "execution_count": 11,
   "metadata": {},
   "outputs": [],
   "source": [
    "import numpy\n",
    "\n",
    "class LogisticRegressionSpark:\n",
    "    \n",
    "    def __init__(self, iter=100, lr=1.0, verbose=0):\n",
    "        \n",
    "        self.iter = iter\n",
    "        self.lr = lr\n",
    "        self.verbose = verbose\n",
    "    \n",
    "    def fit(self, points, n, d):\n",
    " \n",
    "        self._w = 2 * np.random.ranf(size=d) - 1\n",
    "        \n",
    "        for i in range(self.iter):\n",
    "            \n",
    "            if self.verbose > 0:\n",
    "                print(\"Iteration %i\" % (i + 1))\n",
    "            \n",
    "            grad = points.map(lambda m: self._gradient(m, self._w))\n",
    "            grad = grad.reduce(self._add)\n",
    "            \n",
    "            self._w -= self.lr * (1.0 / n) * grad\n",
    "            \n",
    "        if self.verbose > 0:\n",
    "            print(\"Final weights: {}\".format(str(self._w)))\n",
    "    \n",
    "    def predict_proba(self, Xsmall):\n",
    "        s = np.dot(Xsmall, self._w)\n",
    "        return 1.0 / (1.0 + np.exp(-s))\n",
    "    \n",
    "    \n",
    "    def _gradient(self, matrix, weights):\n",
    "        w = weights.reshape((-1,1))\n",
    "        y = matrix[:, 0].reshape((-1,1))    \n",
    "        X = matrix[:, 1:]  \n",
    "\n",
    "        yXt = numpy.multiply(y, X)\n",
    "        s = np.exp(numpy.multiply(y, numpy.dot(X, w)))\n",
    "        grad = numpy.multiply(- 1.0 / (1.0 + s), yXt)\n",
    "        grad = grad.sum(0)\n",
    "        \n",
    "\n",
    "        return grad\n",
    "\n",
    "    def _add(self, x, y):\n",
    "\n",
    "        return x + y"
   ]
  },
  {
   "cell_type": "code",
   "execution_count": null,
   "metadata": {},
   "outputs": [
    {
     "name": "stdout",
     "output_type": "stream",
     "text": [
      "Iteration 1\n",
      "Iteration 2\n",
      "Iteration 3\n",
      "Iteration 4\n",
      "Iteration 5\n",
      "Iteration 6\n",
      "Iteration 7\n",
      "Iteration 8\n",
      "Iteration 9\n",
      "Iteration 10\n",
      "Iteration 11\n",
      "Iteration 12\n",
      "Iteration 13\n",
      "Iteration 14\n",
      "Iteration 15\n",
      "Iteration 16\n",
      "Iteration 17\n",
      "Iteration 18\n",
      "Iteration 19\n",
      "Iteration 20\n",
      "Iteration 21\n",
      "Iteration 22\n",
      "Iteration 23\n",
      "Iteration 24\n",
      "Iteration 25\n",
      "Iteration 26\n",
      "Iteration 27\n",
      "Iteration 28\n",
      "Iteration 29\n",
      "Iteration 30\n",
      "Iteration 31\n",
      "Iteration 32\n",
      "Iteration 33\n",
      "Iteration 34\n",
      "Iteration 35\n",
      "Iteration 36\n",
      "Iteration 37\n",
      "Iteration 38\n",
      "Iteration 39\n",
      "Iteration 40\n",
      "Iteration 41\n",
      "Iteration 42\n",
      "Iteration 43\n",
      "Iteration 44\n",
      "Iteration 45\n",
      "Iteration 46\n",
      "Iteration 47\n",
      "Iteration 48\n",
      "Iteration 49\n",
      "Iteration 50\n",
      "Iteration 51\n",
      "Iteration 52\n",
      "Iteration 53\n",
      "Iteration 54\n",
      "Iteration 55\n",
      "Iteration 56\n",
      "Iteration 57\n",
      "Iteration 58\n",
      "Iteration 59\n",
      "Iteration 60\n",
      "Iteration 61\n",
      "Iteration 62\n",
      "Iteration 63\n",
      "Iteration 64\n",
      "Iteration 65\n",
      "Iteration 66\n",
      "Iteration 67\n",
      "Iteration 68\n",
      "Iteration 69\n",
      "Iteration 70\n",
      "Iteration 71\n",
      "Iteration 72\n",
      "Iteration 73\n",
      "Iteration 74\n",
      "Iteration 75\n",
      "Iteration 76\n",
      "Iteration 77\n",
      "Iteration 78\n",
      "Iteration 79\n",
      "Iteration 80\n",
      "Iteration 81\n",
      "Iteration 82\n",
      "Iteration 83\n",
      "Iteration 84\n",
      "Iteration 85\n",
      "Iteration 86\n",
      "Iteration 87\n",
      "Iteration 88\n",
      "Iteration 89\n",
      "Iteration 90\n",
      "Iteration 91\n",
      "Iteration 92\n",
      "Iteration 93\n",
      "Iteration 94\n",
      "Iteration 95\n",
      "Iteration 96\n"
     ]
    }
   ],
   "source": [
    "model = LogisticRegressionSpark(iter=100, lr=1.0, verbose=1)\n",
    "model.fit(points, N, D)"
   ]
  },
  {
   "cell_type": "code",
   "execution_count": null,
   "metadata": {},
   "outputs": [],
   "source": [
    "plt.figure(figsize=(10, 6))\n",
    "plt.scatter(X[y == 0][:, 0], X[y == 0][:, 1], color='b', label='0')\n",
    "plt.scatter(X[y == 1][:, 0], X[y == 1][:, 1], color='r', label='1')\n",
    "plt.legend()\n",
    "x1_min, x1_max = X[:,0].min(), X[:,0].max(),\n",
    "x2_min, x2_max = X[:,1].min(), X[:,1].max(),\n",
    "xx1, xx2 = np.meshgrid(np.linspace(x1_min, x1_max), np.linspace(x2_min, x2_max))\n",
    "grid = np.c_[xx1.ravel(), xx2.ravel()]\n",
    "probs = model.predict_proba(grid).reshape(xx1.shape)\n",
    "plt.contour(xx1, xx2, probs, [0.5], linewidths=1, colors='black');"
   ]
  },
  {
   "cell_type": "code",
   "execution_count": null,
   "metadata": {},
   "outputs": [],
   "source": []
  }
 ],
 "metadata": {
  "kernelspec": {
   "display_name": "Python 3 (ipykernel)",
   "language": "python",
   "name": "python3"
  },
  "language_info": {
   "codemirror_mode": {
    "name": "ipython",
    "version": 3
   },
   "file_extension": ".py",
   "mimetype": "text/x-python",
   "name": "python",
   "nbconvert_exporter": "python",
   "pygments_lexer": "ipython3",
   "version": "3.8.12"
  }
 },
 "nbformat": 4,
 "nbformat_minor": 4
}
